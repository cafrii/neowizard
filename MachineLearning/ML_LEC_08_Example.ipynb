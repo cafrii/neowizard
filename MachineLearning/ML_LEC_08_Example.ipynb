{
 "cells": [
  {
   "cell_type": "markdown",
   "metadata": {},
   "source": [
    "## [머신러닝 강의 08] 파이썬(Python) Numpy (III)\n",
    "\n",
    "\n",
    "배울 내용\n",
    "- 유용한 함수들.\n",
    "  - concatenate()\n",
    "  - loadtxt(), rand(), argmax()"
   ]
  },
  {
   "cell_type": "code",
   "execution_count": 4,
   "metadata": {
    "collapsed": true
   },
   "outputs": [],
   "source": [
    "import numpy as np"
   ]
  },
  {
   "cell_type": "markdown",
   "metadata": {},
   "source": [
    "### concatenate(...)"
   ]
  },
  {
   "cell_type": "code",
   "execution_count": 5,
   "metadata": {
    "collapsed": false
   },
   "outputs": [
    {
     "name": "stdout",
     "output_type": "stream",
     "text": [
      "(2, 3)\n",
      "[[70 80 90]]\n",
      "(2, 1)\n",
      "[[1000]\n",
      " [2000]]\n",
      "[[10 20 30]\n",
      " [40 50 60]\n",
      " [70 80 90]]\n",
      "[[  10   20   30 1000]\n",
      " [  40   50   60 2000]]\n"
     ]
    }
   ],
   "source": [
    "# 행렬에 열과 행 추가\n",
    "\n",
    "A = np.array([ [10, 20, 30], [40, 50, 60] ])\n",
    "print(A.shape)\n",
    "\n",
    "# A matrix에 행(row) 추가할 행렬. 1행 3열로 reshape\n",
    "# 행을 추가하기 때문에 우선 열을 3열로 만들어야 함.\n",
    "row_add = np.array([70, 80, 90]).reshape(1, 3)\n",
    "print(row_add)\n",
    "\n",
    "# A matrix 에 열(column) 추가할 행렬. 2행 1열 로 생성\n",
    "# 열을 추가하기 때문에 우선 행을 2행로 만들어야 함.\n",
    "column_add = np.array([1000, 2000]).reshape(2, 1)\n",
    "print(column_add.shape)\n",
    "print(column_add)\n",
    "\n",
    "# numpy.concatenate 에서 axis = 0 행(row) 기준\n",
    "# A 행렬에 row_add 행렬 추가\n",
    "B = np.concatenate((A, row_add), axis=0)\n",
    "print(B)\n",
    "\n",
    "# numpy.concatenate 에서 axis = 1 열(column) 기준\n",
    "# B 행렬에 column_add 행렬 추가\n",
    "C = np.concatenate((A, column_add), axis=1)\n",
    "print(C)"
   ]
  },
  {
   "cell_type": "markdown",
   "metadata": {},
   "source": [
    "### loadtxt(...)"
   ]
  },
  {
   "cell_type": "code",
   "execution_count": 6,
   "metadata": {
    "collapsed": false
   },
   "outputs": [
    {
     "name": "stdout",
     "output_type": "stream",
     "text": [
      "loaded data: type <class 'numpy.ndarray'>, shape (25, 4)\n",
      "x_data.ndim =  2 , x_data.shape =  (25, 3)\n",
      "t_data.ndim =  2 , t_data.shape =  (25, 1)\n"
     ]
    }
   ],
   "source": [
    "# loaded_data = np.loadtxt(cwd + 'data-01.csv', delimiter=',', dtype=np.float32)\n",
    "\n",
    "import os\n",
    "\n",
    "file = os.path.join(os.getcwd(), 'data-01.csv')\n",
    "loaded_data = np.loadtxt(file, delimiter=',', dtype=np.float32)\n",
    "# 25 x 4 크기\n",
    "print('loaded data: type %s, shape %s' % (type(loaded_data), loaded_data.shape))\n",
    "\n",
    "# !!!!! 중요 !!!!!\n",
    "x_data = loaded_data[ :, 0:-1]\n",
    "t_data = loaded_data[ :, [-1]]\n",
    "\n",
    "# 데이터 차원 및 shape 확인\n",
    "print(\"x_data.ndim = \", x_data.ndim, \", x_data.shape = \", x_data.shape)\n",
    "print(\"t_data.ndim = \", t_data.ndim, \", t_data.shape = \", t_data.shape)"
   ]
  },
  {
   "cell_type": "markdown",
   "metadata": {},
   "source": [
    "### rand(...)"
   ]
  },
  {
   "cell_type": "code",
   "execution_count": 7,
   "metadata": {
    "collapsed": false
   },
   "outputs": [
    {
     "name": "stdout",
     "output_type": "stream",
     "text": [
      "rn1 == [0.49399899 0.68132106 0.63565057] , rn1.shape == (3,)\n",
      "rn2 == [[0.19193892 0.38035826 0.2596519 ]] , rn2.shape == (1, 3)\n",
      "rn3 == [[0.0245196 ]\n",
      " [0.24486759]\n",
      " [0.06564968]] , rn3.shape == (3, 1)\n"
     ]
    }
   ],
   "source": [
    "# 0 ~ 1 사이의 random number 발생\n",
    "\n",
    "# 인자로 원하는 shape 을 받음. 각 디멘전의 크기.\n",
    "\n",
    "rn1 = np.random.rand(3)\n",
    "rn2 = np.random.rand(1, 3)\n",
    "rn3 = np.random.rand(3, 1)\n",
    "\n",
    "print(\"rn1 ==\", rn1, \", rn1.shape ==\", rn1.shape)\n",
    "print(\"rn2 ==\", rn2, \", rn2.shape ==\", rn2.shape)\n",
    "print(\"rn3 ==\", rn3, \", rn3.shape ==\", rn3.shape)"
   ]
  },
  {
   "cell_type": "code",
   "execution_count": 8,
   "metadata": {
    "collapsed": false
   },
   "outputs": [
    {
     "name": "stdout",
     "output_type": "stream",
     "text": [
      "np.sum(X) == 20\n",
      "np.exp(X) == [   7.3890561    54.59815003  403.42879349 2980.95798704]\n",
      "np.log(X) == [0.69314718 1.38629436 1.79175947 2.07944154]\n"
     ]
    }
   ],
   "source": [
    "X = np.array([2, 4, 6, 8])\n",
    "\n",
    "print(\"np.sum(X) ==\", np.sum(X))\n",
    "print(\"np.exp(X) ==\", np.exp(X))\n",
    "print(\"np.log(X) ==\", np.log(X))"
   ]
  },
  {
   "cell_type": "markdown",
   "metadata": {},
   "source": [
    "### max, min, argmax, margmin"
   ]
  },
  {
   "cell_type": "code",
   "execution_count": 9,
   "metadata": {
    "collapsed": false
   },
   "outputs": [
    {
     "name": "stdout",
     "output_type": "stream",
     "text": [
      "np.max(X) == 8\n",
      "np.min(X) == 2\n",
      "np.argmax(X) == 3\n",
      "np.argmin(X) == 0\n"
     ]
    }
   ],
   "source": [
    "X = np.array([2, 4, 6, 8])\n",
    "\n",
    "print(\"np.max(X) ==\", np.max(X))\n",
    "print(\"np.min(X) ==\", np.min(X))\n",
    "print(\"np.argmax(X) ==\", np.argmax(X))\n",
    "print(\"np.argmin(X) ==\", np.argmin(X))"
   ]
  },
  {
   "cell_type": "code",
   "execution_count": 10,
   "metadata": {
    "collapsed": false
   },
   "outputs": [
    {
     "name": "stdout",
     "output_type": "stream",
     "text": [
      "np.max(X) == [2 5 8]\n",
      "np.min(X) == [0 2 3]\n",
      "np.max(X) == [6 3 8]\n",
      "np.min(X) == [2 1 0]\n",
      "np.argmax(X) == [0 2 2]\n",
      "np.argmin(X) == [2 1 1]\n",
      "np.argmax(X) == [2 2 2]\n",
      "np.argmin(X) == [0 0 0]\n"
     ]
    }
   ],
   "source": [
    "X = np.array([ [2, 4, 6], [1, 2, 3], [0, 5, 8] ])\n",
    "\n",
    "print(\"np.max(X) ==\", np.max(X, axis=0)) # axis=0, 열기준\n",
    "print(\"np.min(X) ==\", np.min(X, axis=0)) # axis=0, 열기준\n",
    "\n",
    "print(\"np.max(X) ==\", np.max(X, axis=1)) # axis=1, 행기준\n",
    "print(\"np.min(X) ==\", np.min(X, axis=1)) # axis=1, 행기준\n",
    "\n",
    "print(\"np.argmax(X) ==\", np.argmax(X, axis=0)) # axis=0, 열기준\n",
    "print(\"np.argmin(X) ==\", np.argmin(X, axis=0)) # axis=0, 열기준\n",
    "\n",
    "print(\"np.argmax(X) ==\", np.argmax(X, axis=1)) # axis=1, 행기준\n",
    "print(\"np.argmin(X) ==\", np.argmin(X, axis=1)) # axis=1, 행기준"
   ]
  },
  {
   "cell_type": "markdown",
   "metadata": {},
   "source": [
    "### matplotlib\n",
    "\n",
    "실무에서는, 실제 ML 코드 구현 전에 입력 데이터의 분포와 모양을 먼저 그래프로 그려보고, 데이터의 특성과 분포를 파악한 후 어떤 알고리즘을 적용할 지 결정한다.\n",
    "\n",
    "일반적으로 line plot, scatter plot 을 사용한다."
   ]
  },
  {
   "cell_type": "code",
   "execution_count": 11,
   "metadata": {
    "collapsed": false
   },
   "outputs": [
    {
     "name": "stdout",
     "output_type": "stream",
     "text": [
      "numpy version: 1.26.4\n"
     ]
    },
    {
     "data": {
      "image/png": "[encoded data removed]",
      "text/plain": [
       "<Figure size 640x480 with 1 Axes>"
      ]
     },
     "metadata": {},
     "output_type": "display_data"
    }
   ],
   "source": [
    "import matplotlib.pyplot as plt\n",
    "import numpy as np\n",
    "print('numpy version:', np.__version__)\n",
    "\n",
    "# 주피터 노트북을 사용하는 경우 노트북 내부에 그림 표시\n",
    "%matplotlib inline\n",
    "\n",
    "# x data,  y data 생성\n",
    "x_data = np.random.rand(100)\n",
    "y_data = np.random.rand(100)\n",
    "\n",
    "plt.title('scatter plot')\n",
    "plt.grid()\n",
    "plt.scatter(x_data, y_data, color='b', marker='o')\n",
    "plt.show()"
   ]
  },
  {
   "cell_type": "code",
   "execution_count": 12,
   "metadata": {
    "collapsed": false
   },
   "outputs": [
    {
     "data": {
      "image/png": "[encoded data removed]",
      "text/plain": [
       "<Figure size 640x480 with 1 Axes>"
      ]
     },
     "metadata": {},
     "output_type": "display_data"
    }
   ],
   "source": [
    "import matplotlib.pyplot as plt\n",
    "\n",
    "%matplotlib inline\n",
    "\n",
    "x_data = [ x for x in range(-5,5) ]\n",
    "y_data = [ y*y for y in range(-5,5) ]\n",
    "\n",
    "plt.title('line plot')\n",
    "plt.grid()\n",
    "plt.plot(x_data, y_data ,color='b')\n",
    "plt.show()"
   ]
  },
  {
   "cell_type": "code",
   "execution_count": 13,
   "metadata": {
    "collapsed": false
   },
   "outputs": [
    {
     "data": {
      "image/png": "[encoded data removed]",
      "text/plain": [
       "<Figure size 640x480 with 1 Axes>"
      ]
     },
     "metadata": {},
     "output_type": "display_data"
    }
   ],
   "source": [
    "import matplotlib.pyplot as plt\n",
    "\n",
    "%matplotlib inline\n",
    "\n",
    "x_data = [ -3,  -2, -1, 0, 1, 2,   3,  4, 5, 6, 7,  8, 9 ]\n",
    "y_data = [ -8, -13, -0, 3, 6, -1, -5, -7, 1, 8, 7, 12, 13 ]\n",
    "\n",
    "plt.title('line plot')\n",
    "plt.grid()\n",
    "plt.plot(x_data, y_data, color='b')\n",
    "plt.show()"
   ]
  },
  {
   "cell_type": "code",
   "execution_count": null,
   "metadata": {
    "collapsed": true
   },
   "outputs": [],
   "source": []
  }
 ],
 "metadata": {
  "anaconda-cloud": {},
  "kernelspec": {
   "display_name": "ml_39",
   "language": "python",
   "name": "python3"
  },
  "language_info": {
   "codemirror_mode": {
    "name": "ipython",
    "version": 3
   },
   "file_extension": ".py",
   "mimetype": "text/x-python",
   "name": "python",
   "nbconvert_exporter": "python",
   "pygments_lexer": "ipython3",
   "version": "3.9.15"
  }
 },
 "nbformat": 4,
 "nbformat_minor": 1
}
