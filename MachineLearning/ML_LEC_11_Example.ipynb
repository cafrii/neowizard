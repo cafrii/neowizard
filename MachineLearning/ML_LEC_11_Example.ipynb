{
 "cells": [
  {
   "cell_type": "markdown",
   "metadata": {},
   "source": [
    "## [머신러닝 강의 09] 머신러닝 수치미분 (I)\n",
    "\n",
    "\n",
    "10장:\n",
    "https://www.youtube.com/watch?v=3ELMIbGTIDs&list=PLS8gIc2q83OjStGjdTF2LZtc0vefCAbnX&index=10\n",
    "\n",
    "11장:\n",
    "\n",
    "\n"
   ]
  },
  {
   "cell_type": "code",
   "execution_count": null,
   "metadata": {
    "collapsed": true
   },
   "outputs": [],
   "source": [
    "import numpy as np\n",
    "\n",
    "'''\n",
    "Args:\n",
    "    f: 미분하고자 하는 함수. 입력 값이 x 이어야 함.\n",
    "    x: 함수 f의 입력변수의 값. (N-차 벡터, 또는 행렬 일 수 있음).\n",
    "        이 x 위치에서의 미분 값을 구하는 것임.\n",
    "        numpy array 타입.\n",
    "Note:\n",
    "    x가 행렬일 수도 있음. 예: shape이 (2,2)라면 총 4개의 변수가 있는 것임.\n",
    "    이 경우, 아래 while 내에서 iterator는 총 4번을 반복하게 됨.\n",
    "'''\n",
    "def numerical_derivative(f, x):    # 수치미분 debug version\n",
    "    delta_x = 1e-4\n",
    "    grad = np.zeros_like(x)\n",
    "    # x와 동일한 shape을 가지는 zero 벡터 또는 행렬\n",
    "\n",
    "    print(\"debug 1. initial input variable =\", x)\n",
    "    print(\"debug 2. initial grad =\", grad)\n",
    "    print(\"=======================================\")\n",
    "\n",
    "    it = np.nditer(x, flags=['multi_index'], op_flags=['readwrite'])\n",
    "\n",
    "    while not it.finished:\n",
    "        idx = it.multi_index\n",
    "\n",
    "        print(\"debug 3. idx = \", idx, \", x[idx] = \", x[idx])\n",
    "\n",
    "        tmp_val = x[idx]\n",
    "        x[idx] = float(tmp_val) + delta_x\n",
    "        fx1 = f(x)   # f(x+delta_x)\n",
    "\n",
    "        x[idx] = tmp_val - delta_x\n",
    "        fx2 = f(x)   # f(x-delta_x)\n",
    "        grad[idx] = (fx1 - fx2) / (2*delta_x)\n",
    "\n",
    "        print(\"debug 4. grad[idx] = \", grad[idx])\n",
    "        print(\"debug 5. grad = \", grad)\n",
    "        print(\"=======================================\")\n",
    "\n",
    "        x[idx] = tmp_val\n",
    "        it.iternext()\n",
    "\n",
    "    return grad"
   ]
  },
  {
   "cell_type": "markdown",
   "metadata": {},
   "source": [
    "### 실습 1\n",
    "\n",
    "f(x) = x**2"
   ]
  },
  {
   "cell_type": "code",
   "execution_count": null,
   "metadata": {
    "collapsed": false
   },
   "outputs": [
    {
     "name": "stdout",
     "output_type": "stream",
     "text": [
      "debug 1. initial input variable = [3.]\n",
      "debug 2. initial grad = [0.]\n",
      "=======================================\n",
      "debug 3. idx =  (0,) , x[idx] =  3.0\n",
      "debug 4. grad[idx] =  6.000000000012662\n",
      "debug 5. grad =  [6.]\n",
      "=======================================\n"
     ]
    },
    {
     "data": {
      "text/plain": [
       "array([6.])"
      ]
     },
     "execution_count": 6,
     "metadata": {},
     "output_type": "execute_result"
    }
   ],
   "source": [
    "# 입력변수 1 개인 함수 f(x) = x**2\n",
    "def func1(input_obj):\n",
    "    # 여기에서 input_obj 는 numpy 객체. (예: np.array)\n",
    "    x = input_obj[0]\n",
    "\n",
    "    return  x**2\n",
    "\n",
    "\n",
    "# x = 3.0 에서의 편미분 값\n",
    "numerical_derivative( func1, np.array([3.0]) )"
   ]
  },
  {
   "cell_type": "code",
   "execution_count": 8,
   "metadata": {},
   "outputs": [
    {
     "name": "stdout",
     "output_type": "stream",
     "text": [
      "debug 1. initial input variable = [3. 4.]\n",
      "debug 2. initial grad = [0. 0.]\n",
      "=======================================\n",
      "debug 3. idx =  (0,) , x[idx] =  3.0\n",
      "debug 4. grad[idx] =  6.000000000012662\n",
      "debug 5. grad =  [6. 0.]\n",
      "=======================================\n",
      "debug 3. idx =  (1,) , x[idx] =  4.0\n",
      "debug 4. grad[idx] =  0.0\n",
      "debug 5. grad =  [6. 0.]\n",
      "=======================================\n"
     ]
    },
    {
     "data": {
      "text/plain": [
       "array([6., 0.])"
      ]
     },
     "execution_count": 8,
     "metadata": {},
     "output_type": "execute_result"
    }
   ],
   "source": [
    "# yhlee 추가\n",
    "numerical_derivative( func1, np.array([3.0,4]) )"
   ]
  },
  {
   "cell_type": "markdown",
   "metadata": {},
   "source": [
    "이 값이 원하는 값인가?/////\n",
    "\n",
    "위 결과에 나온 경고:\n",
    "/var/folders/gk/5yll9c4s4574ff6wr892k56r0000gn/T/ipykernel_63600/552317243.\n",
    "\n",
    "py:25: DeprecationWarning: \n",
    "Conversion of an array with ndim > 0 to a scalar is deprecated, and will error in future. Ensure you extract a single element from your array before performing this operation. (Deprecated NumPy 1.25.)\n"
   ]
  },
  {
   "cell_type": "code",
   "execution_count": null,
   "metadata": {
    "collapsed": false
   },
   "outputs": [
    {
     "name": "stdout",
     "output_type": "stream",
     "text": [
      "debug 1. initial input variable = [1. 2.]\n",
      "debug 2. initial grad = [0. 0.]\n",
      "=======================================\n",
      "debug 3. idx =  (0,) , x[idx] =  1.0\n",
      "debug 4. grad[idx] =  7.999999999990237\n",
      "debug 5. grad =  [8. 0.]\n",
      "=======================================\n",
      "debug 3. idx =  (1,) , x[idx] =  2.0\n",
      "debug 4. grad[idx] =  15.000000010019221\n",
      "debug 5. grad =  [ 8.         15.00000001]\n",
      "=======================================\n"
     ]
    },
    {
     "data": {
      "text/plain": [
       "array([ 8.        , 15.00000001])"
      ]
     },
     "execution_count": 3,
     "metadata": {},
     "output_type": "execute_result"
    }
   ],
   "source": [
    "# 입력변수 2 개인 함수 f(x, y) = 2x + 3xy + y^3\n",
    "def func1(input_obj):\n",
    "\n",
    "    x = input_obj[0]\n",
    "    y = input_obj[1]\n",
    "\n",
    "    return  ( 2*x + 3*x*y + np.power(y,3) )\n",
    "\n",
    "\n",
    "# (x,y) = (1.0, 2.0) 에서의 편미분 값\n",
    "input = np.array([1.0, 2.0])\n",
    "\n",
    "numerical_derivative( func1, input )"
   ]
  },
  {
   "cell_type": "code",
   "execution_count": null,
   "metadata": {
    "collapsed": false
   },
   "outputs": [
    {
     "name": "stdout",
     "output_type": "stream",
     "text": [
      "debug 1. initial input variable = [[1. 2.]\n",
      " [3. 4.]]\n",
      "debug 2. initial grad = [[0. 0.]\n",
      " [0. 0.]]\n",
      "=======================================\n",
      "debug 3. idx =  (0, 0) , x[idx] =  1.0\n",
      "debug 4. grad[idx] =  5.000000000023874\n",
      "debug 5. grad =  [[5. 0.]\n",
      " [0. 0.]]\n",
      "=======================================\n",
      "debug 3. idx =  (0, 1) , x[idx] =  2.0\n",
      "debug 4. grad[idx] =  13.00000000000523\n",
      "debug 5. grad =  [[ 5. 13.]\n",
      " [ 0.  0.]]\n",
      "=======================================\n",
      "debug 3. idx =  (1, 0) , x[idx] =  3.0\n",
      "debug 4. grad[idx] =  32.00000000006753\n",
      "debug 5. grad =  [[ 5. 13.]\n",
      " [32.  0.]]\n",
      "=======================================\n",
      "debug 3. idx =  (1, 1) , x[idx] =  4.0\n",
      "debug 4. grad[idx] =  15.000000000000568\n",
      "debug 5. grad =  [[ 5. 13.]\n",
      " [32. 15.]]\n",
      "=======================================\n"
     ]
    },
    {
     "data": {
      "text/plain": [
       "array([[ 5., 13.],\n",
       "       [32., 15.]])"
      ]
     },
     "execution_count": 4,
     "metadata": {},
     "output_type": "execute_result"
    }
   ],
   "source": [
    "# 입력변수 4 개인 함수\n",
    "# f(w,x,y,z) = wx + xyz + 3w + zy^2\n",
    "# input_obj 는 행렬\n",
    "def func1(input_obj):\n",
    "\n",
    "    w = input_obj[0, 0]\n",
    "    x = input_obj[0, 1]\n",
    "    y = input_obj[1, 0]\n",
    "    z = input_obj[1, 1]\n",
    "\n",
    "    return  ( w*x + x*y*z + 3*w + z*np.power(y,2) )\n",
    "\n",
    "# 입력을 2X2 행렬로 구성함\n",
    "input = np.array([ [1.0, 2.0], [3.0, 4.0] ])\n",
    "\n",
    "numerical_derivative( func1, input )"
   ]
  },
  {
   "cell_type": "markdown",
   "metadata": {},
   "source": [
    "앞의 예제와 동일한데 다만 func1 의 input_obj 를 행렬 대신 벡터로도 계산해 보기로 함."
   ]
  },
  {
   "cell_type": "code",
   "execution_count": 5,
   "metadata": {
    "collapsed": true
   },
   "outputs": [
    {
     "name": "stdout",
     "output_type": "stream",
     "text": [
      "debug 1. initial input variable = [1. 2. 3. 4.]\n",
      "debug 2. initial grad = [0. 0. 0. 0.]\n",
      "=======================================\n",
      "debug 3. idx =  (0,) , x[idx] =  1.0\n",
      "debug 4. grad[idx] =  5.000000000023874\n",
      "debug 5. grad =  [5. 0. 0. 0.]\n",
      "=======================================\n",
      "debug 3. idx =  (1,) , x[idx] =  2.0\n",
      "debug 4. grad[idx] =  13.00000000000523\n",
      "debug 5. grad =  [ 5. 13.  0.  0.]\n",
      "=======================================\n",
      "debug 3. idx =  (2,) , x[idx] =  3.0\n",
      "debug 4. grad[idx] =  32.00000000006753\n",
      "debug 5. grad =  [ 5. 13. 32.  0.]\n",
      "=======================================\n",
      "debug 3. idx =  (3,) , x[idx] =  4.0\n",
      "debug 4. grad[idx] =  15.000000000000568\n",
      "debug 5. grad =  [ 5. 13. 32. 15.]\n",
      "=======================================\n"
     ]
    },
    {
     "data": {
      "text/plain": [
       "array([ 5., 13., 32., 15.])"
      ]
     },
     "execution_count": 5,
     "metadata": {},
     "output_type": "execute_result"
    }
   ],
   "source": [
    "# 입력변수 4 개인 함수\n",
    "# f(w,x,y,z) = wx + xyz + 3w + zy^2\n",
    "def func1(input_obj):\n",
    "\n",
    "    w = input_obj[0]\n",
    "    x = input_obj[1]\n",
    "    y = input_obj[2]\n",
    "    z = input_obj[3]\n",
    "\n",
    "    return  ( w*x + x*y*z + 3*w + z*np.power(y,2) )\n",
    "\n",
    "input = np.array([ 1.0, 2.0, 3.0, 4.0 ])\n",
    "\n",
    "numerical_derivative( func1, input )"
   ]
  }
 ],
 "metadata": {
  "anaconda-cloud": {},
  "kernelspec": {
   "display_name": "ml_39",
   "language": "python",
   "name": "python3"
  },
  "language_info": {
   "codemirror_mode": {
    "name": "ipython",
    "version": 3
   },
   "file_extension": ".py",
   "mimetype": "text/x-python",
   "name": "python",
   "nbconvert_exporter": "python",
   "pygments_lexer": "ipython3",
   "version": "3.9.15"
  }
 },
 "nbformat": 4,
 "nbformat_minor": 1
}
