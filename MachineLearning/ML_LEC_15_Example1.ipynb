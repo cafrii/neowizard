{
 "cells": [
  {
   "cell_type": "markdown",
   "metadata": {},
   "source": [
    "## [머신러닝 강의 15] Linear Regression (III)\n",
    "\n",
    "실제 예제로 선형 회귀 계산\n"
   ]
  },
  {
   "cell_type": "code",
   "execution_count": 11,
   "metadata": {},
   "outputs": [],
   "source": [
    "import numpy as np"
   ]
  },
  {
   "cell_type": "code",
   "execution_count": 12,
   "metadata": {
    "collapsed": false
   },
   "outputs": [
    {
     "name": "stdout",
     "output_type": "stream",
     "text": [
      "[[1]\n",
      " [2]\n",
      " [3]\n",
      " [4]\n",
      " [5]]\n",
      "[[2]\n",
      " [3]\n",
      " [4]\n",
      " [5]\n",
      " [6]]\n",
      "x_data.shape =  (5, 1) , t_data.shape =  (5, 1)\n"
     ]
    }
   ],
   "source": [
    "x_data = np.array([1, 2, 3, 4, 5]).reshape(5,1)\n",
    "t_data = np.array([2, 3, 4, 5, 6]).reshape(5,1)\n",
    "\n",
    "# raw_data = [ [1, 2], [2, 3], [3, 4], [4, 5], [5, 6] ]\n",
    "print(x_data)\n",
    "print(t_data)\n",
    "\n",
    "print(\"x_data.shape = \", x_data.shape, \", t_data.shape = \", t_data.shape)"
   ]
  },
  {
   "cell_type": "code",
   "execution_count": 13,
   "metadata": {
    "collapsed": false
   },
   "outputs": [
    {
     "name": "stdout",
     "output_type": "stream",
     "text": [
      "W =  [[0.65783674]] , W.shape =  (1, 1) , b =  [0.50266849] , b.shape =  (1,)\n"
     ]
    }
   ],
   "source": [
    "W = np.random.rand(1,1)\n",
    "b = np.random.rand(1)\n",
    "print(\"W = \", W, \", W.shape = \", W.shape, \", b = \", b, \", b.shape = \", b.shape)"
   ]
  },
  {
   "cell_type": "code",
   "execution_count": null,
   "metadata": {},
   "outputs": [
    {
     "name": "stdout",
     "output_type": "stream",
     "text": [
      "W =  [[0.65783674]] , W.shape =  (1, 1) , b =  [0.50266849] , b.shape =  (1,)\n"
     ]
    }
   ],
   "source": [
    "W = np.random.rand(1,1)\n",
    "b = np.random.rand(1)\n",
    "print(\"W = \", W, \", W.shape = \", W.shape, \", b = \", b, \", b.shape = \", b.shape)"
   ]
  },
  {
   "cell_type": "code",
   "execution_count": 14,
   "metadata": {
    "collapsed": true
   },
   "outputs": [],
   "source": [
    "def loss_func(x, t):\n",
    "    y = np.dot(x,W) + b\n",
    "\n",
    "    return ( np.sum( (t - y)**2 ) ) / ( len(x) )\n",
    "    # 1/n x sigma( ti - yi )**2 )"
   ]
  },
  {
   "cell_type": "code",
   "execution_count": 15,
   "metadata": {
    "collapsed": true
   },
   "outputs": [],
   "source": [
    "def numerical_derivative(f, x):\n",
    "    delta_x = 1e-4 # 0.0001\n",
    "    grad = np.zeros_like(x)\n",
    "\n",
    "    it = np.nditer(x, flags=['multi_index'], op_flags=['readwrite'])\n",
    "\n",
    "    while not it.finished:\n",
    "        idx = it.multi_index\n",
    "        tmp_val = x[idx]\n",
    "        x[idx] = float(tmp_val) + delta_x\n",
    "        fx1 = f(x) # f(x+delta_x)\n",
    "\n",
    "        x[idx] = tmp_val - delta_x\n",
    "        fx2 = f(x) # f(x-delta_x)\n",
    "        grad[idx] = (fx1 - fx2) / (2*delta_x)\n",
    "\n",
    "        x[idx] = tmp_val\n",
    "        it.iternext()\n",
    "\n",
    "    return grad"
   ]
  },
  {
   "cell_type": "code",
   "execution_count": 16,
   "metadata": {
    "collapsed": true
   },
   "outputs": [],
   "source": [
    "# 손실함수 값 계산 함수\n",
    "# 입력변수 x, t : numpy type\n",
    "def error_val(x, t):\n",
    "    y = np.dot(x,W) + b\n",
    "\n",
    "    return ( np.sum( (t - y)**2 ) ) / ( len(x) )\n",
    "\n",
    "# 학습을 마친 후, 임의의 데이터에 대해 미래 값 예측 함수\n",
    "# 입력변수 x : numpy type\n",
    "def predict(x):\n",
    "    y = np.dot(x,W) + b\n",
    "\n",
    "    return y"
   ]
  },
  {
   "cell_type": "code",
   "execution_count": 17,
   "metadata": {
    "collapsed": false
   },
   "outputs": [
    {
     "name": "stdout",
     "output_type": "stream",
     "text": [
      "Initial error value =  2.5561826790562043 Initial W =  [[0.65783674]] \n",
      " , b =  [0.50266849]\n",
      "step =  0 error value =  1.5149598536837694 W =  [[0.76295255]] , b =  [0.52683796]\n",
      "step =  400 error value =  0.0018406722368661688 W =  [[1.02786025]] , b =  [0.89944029]\n",
      "step =  800 error value =  0.00011744577071632425 W =  [[1.00703745]] , b =  [0.97459879]\n",
      "step =  1200 error value =  7.493734507904549e-06 W =  [[1.00177765]] , b =  [0.9935837]\n",
      "step =  1600 error value =  4.781445643592986e-07 W =  [[1.00044903]] , b =  [0.99837925]\n",
      "step =  2000 error value =  3.0508449983908997e-08 W =  [[1.00011342]] , b =  [0.9995906]\n",
      "step =  2400 error value =  1.946619474088672e-09 W =  [[1.00002865]] , b =  [0.99989659]\n",
      "step =  2800 error value =  1.2420583080829638e-10 W =  [[1.00000724]] , b =  [0.99997388]\n",
      "step =  3200 error value =  7.925066307131083e-12 W =  [[1.00000183]] , b =  [0.9999934]\n",
      "step =  3600 error value =  5.056660828633405e-13 W =  [[1.00000046]] , b =  [0.99999833]\n",
      "step =  4000 error value =  3.2264485669481676e-14 W =  [[1.00000012]] , b =  [0.99999958]\n",
      "step =  4400 error value =  2.058664928726168e-15 W =  [[1.00000003]] , b =  [0.99999989]\n",
      "step =  4800 error value =  1.3135499972351635e-16 W =  [[1.00000001]] , b =  [0.99999997]\n",
      "step =  5200 error value =  8.381224537400297e-18 W =  [[1.]] , b =  [0.99999999]\n",
      "step =  5600 error value =  5.347718966093649e-19 W =  [[1.]] , b =  [1.]\n",
      "step =  6000 error value =  3.412168637257966e-20 W =  [[1.]] , b =  [1.]\n",
      "step =  6400 error value =  2.177195745147046e-21 W =  [[1.]] , b =  [1.]\n",
      "step =  6800 error value =  1.3892097827926256e-22 W =  [[1.]] , b =  [1.]\n",
      "step =  7200 error value =  8.866274950271356e-24 W =  [[1.]] , b =  [1.]\n",
      "step =  7600 error value =  5.665760343352424e-25 W =  [[1.]] , b =  [1.]\n",
      "step =  8000 error value =  3.6501116704925924e-26 W =  [[1.]] , b =  [1.]\n"
     ]
    }
   ],
   "source": [
    "learning_rate = 1e-2  # 발산하는 경우, 1e-3 ~ 1e-6 등으로 바꾸어서 실행\n",
    "\n",
    "f = lambda x : loss_func(x_data,t_data)\n",
    "\n",
    "print(\"Initial error value = \", error_val(x_data, t_data), \"Initial W = \", W, \"\\n\", \", b = \", b )\n",
    "\n",
    "for step in  range(8001):\n",
    "\n",
    "    W -= learning_rate * numerical_derivative(f, W)\n",
    "\n",
    "    b -= learning_rate * numerical_derivative(f, b)\n",
    "\n",
    "    if (step % 400 == 0):\n",
    "        print(\"step = \", step, \"error value = \", error_val(x_data, t_data), \"W = \", W, \", b = \",b )"
   ]
  },
  {
   "cell_type": "code",
   "execution_count": 18,
   "metadata": {
    "collapsed": false
   },
   "outputs": [
    {
     "data": {
      "text/plain": [
       "array([[44.]])"
      ]
     },
     "execution_count": 18,
     "metadata": {},
     "output_type": "execute_result"
    }
   ],
   "source": [
    "predict(43)"
   ]
  }
 ],
 "metadata": {
  "anaconda-cloud": {},
  "kernelspec": {
   "display_name": "ml_39",
   "language": "python",
   "name": "python3"
  },
  "language_info": {
   "codemirror_mode": {
    "name": "ipython",
    "version": 3
   },
   "file_extension": ".py",
   "mimetype": "text/x-python",
   "name": "python",
   "nbconvert_exporter": "python",
   "pygments_lexer": "ipython3",
   "version": "3.9.15"
  }
 },
 "nbformat": 4,
 "nbformat_minor": 1
}
