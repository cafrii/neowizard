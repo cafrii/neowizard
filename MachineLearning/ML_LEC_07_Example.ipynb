{
 "cells": [
  {
   "cell_type": "markdown",
   "metadata": {},
   "source": [
    "## [머신러닝 강의 07] 파이썬(Python) Numpy (II)\n",
    "\n",
    "2025/3/13"
   ]
  },
  {
   "cell_type": "code",
   "execution_count": null,
   "metadata": {},
   "outputs": [
    {
     "name": "stdout",
     "output_type": "stream",
     "text": [
      "<module 'os' from '/Users/yhlee/miniforge3/envs/ml_39/lib/python3.9/os.py'>\n"
     ]
    }
   ],
   "source": [
    "# 경로 확인 용.\n",
    "import os\n",
    "print(os)\n"
   ]
  },
  {
   "cell_type": "code",
   "execution_count": 1,
   "metadata": {
    "collapsed": false
   },
   "outputs": [
    {
     "name": "stdout",
     "output_type": "stream",
     "text": [
      "A.shape == (2, 3) , B.shape == (3, 2)\n",
      "C.shape == (2, 2)\n",
      "[[-22 -28]\n",
      " [-49 -64]]\n"
     ]
    }
   ],
   "source": [
    "\n",
    "import numpy as np\n",
    "\n",
    "A = np.array([ [1, 2, 3], [4, 5, 6] ])  # 2X3 행렬\n",
    "B = np.array([ [-1, -2], [-3, -4], [-5, -6] ])  # 3X2 행렬\n",
    "\n",
    "# (2X3) dot porduct (3X2) == (2X2) 행렬\n",
    "C = np.dot(A, B)  # 행렬 곱 수행\n",
    "\n",
    "# matrix A, B 형상 출력 => shape\n",
    "print(\"A.shape ==\", A.shape, \", B.shape ==\", B.shape)\n",
    "print(\"C.shape ==\", C.shape)\n",
    "print(C)"
   ]
  },
  {
   "cell_type": "markdown",
   "metadata": {},
   "source": [
    "사칙 연산은 행렬 원소 개수가 동일해야만 연산 가능.\n",
    "도트 프로덕은 이 크기 제한이 덜함.\n",
    "\n",
    "-> 다양한 특성을 갖는 필터 개발이 가능.\n",
    "\n",
    "사칙 연산에서도 브로드캐스트를 이용하면 연산은 됨.\n",
    "차원이 낮은 쪽을 큰 쪽에 맞춰 확장 시켜줄 수 있음.\n",
    "\n",
    "브로드캐스트 는 행렬곱에는 적용 안된다!!"
   ]
  },
  {
   "cell_type": "code",
   "execution_count": 3,
   "metadata": {
    "collapsed": false
   },
   "outputs": [
    {
     "name": "stdout",
     "output_type": "stream",
     "text": [
      "[[1 2]\n",
      " [3 4]]\n",
      "[[6 7]\n",
      " [8 9]]\n"
     ]
    }
   ],
   "source": [
    "# scalar broadcast\n",
    "\n",
    "A = np.array([ [1, 2], [3, 4] ])\n",
    "b = 5\n",
    "\n",
    "print(A)\n",
    "print(A+b)"
   ]
  },
  {
   "cell_type": "code",
   "execution_count": 5,
   "metadata": {
    "collapsed": false
   },
   "outputs": [
    {
     "name": "stdout",
     "output_type": "stream",
     "text": [
      "[[1 2]\n",
      " [3 4]]\n",
      "[4 5]\n",
      "[[5 7]\n",
      " [7 9]]\n"
     ]
    }
   ],
   "source": [
    "# matrix broadcast\n",
    "\n",
    "C = np.array([ [1, 2], [3, 4] ])\n",
    "D = np.array([4, 5])\n",
    "\n",
    "print(C)\n",
    "print(D)\n",
    "print(C+D)"
   ]
  },
  {
   "cell_type": "code",
   "execution_count": 6,
   "metadata": {
    "collapsed": false
   },
   "outputs": [
    {
     "name": "stdout",
     "output_type": "stream",
     "text": [
      "A.shape == (3, 2) , B.shape == (2, 3)\n",
      "[[1 2]\n",
      " [3 4]\n",
      " [5 6]]\n",
      "[[1 3 5]\n",
      " [2 4 6]]\n"
     ]
    }
   ],
   "source": [
    "# 전치행렬\n",
    "\n",
    "A = np.array([ [1, 2], [3, 4], [5, 6] ])  # 3X2행렬\n",
    "\n",
    "B = A.T    # A의 전치행렬, 2X3 행렬\n",
    "# T 가 연산자인가??\n",
    "# 마치 속성 처럼 보이는데...\n",
    "\n",
    "\n",
    "print(\"A.shape ==\", A.shape, \", B.shape ==\", B.shape)\n",
    "print(A)\n",
    "print(B)"
   ]
  },
  {
   "cell_type": "code",
   "execution_count": 8,
   "metadata": {
    "collapsed": false
   },
   "outputs": [
    {
     "name": "stdout",
     "output_type": "stream",
     "text": [
      "[1 2 3 4 5]\n",
      "C.shape == (5,) , D.shape == (5,)\n",
      "[1 2 3 4 5]\n",
      "[[1 2 3 4 5]]\n",
      "E.shape == (1, 5) . F.shape == (5, 1)\n",
      "[[1]\n",
      " [2]\n",
      " [3]\n",
      " [4]\n",
      " [5]]\n"
     ]
    }
   ],
   "source": [
    "# vector 전치행렬\n",
    "\n",
    "C = np.array([1, 2, 3, 4, 5])  # vector, matrix 아님\n",
    "D = C.T      # C 는 vector 이므로 transpose 않됨\n",
    "\n",
    "# 벡터는 T가 안되지만, 같은 데이터를 가진 행렬은 T가 된다.\n",
    "E = C.reshape(1, 5)    #  1X5 matrix\n",
    "F = E.T    # E 의 전치행렬\n",
    "\n",
    "print(C)\n",
    "print(\"C.shape ==\", C.shape, \", D.shape ==\", D.shape)\n",
    "print(D)\n",
    "\n",
    "print(E)\n",
    "print(\"E.shape ==\", E.shape, \". F.shape ==\", F.shape)\n",
    "print(F)"
   ]
  },
  {
   "cell_type": "code",
   "execution_count": 19,
   "metadata": {
    "collapsed": false
   },
   "outputs": [
    {
     "name": "stdout",
     "output_type": "stream",
     "text": [
      "A.shape == (3, 2)\n",
      "[[10 20]\n",
      " [30 40]\n",
      " [50 60]]\n"
     ]
    }
   ],
   "source": [
    "# reshape\n",
    "\n",
    "A = np.array([10, 20, 30, 40, 50, 60]).reshape(3, 2)\n",
    "\n",
    "print(\"A.shape ==\", A.shape)\n",
    "print(A)"
   ]
  },
  {
   "cell_type": "code",
   "execution_count": 20,
   "metadata": {
    "collapsed": false
   },
   "outputs": [
    {
     "name": "stdout",
     "output_type": "stream",
     "text": [
      "[[10 20]\n",
      " [30 40]\n",
      " [50 60]]\n",
      "A[0, 0] == 10 , A[0][0] == 10\n",
      "A[2, 1] == 60 , A[2][1] == 60\n",
      "-- A[0:1, 0:1] ==\n",
      "[[10]]\n",
      "++ A[0:-1, 1:2] ==\n",
      "[[20]\n",
      " [40]]\n",
      "** A[ :, 0] == [10 30 50]\n",
      ">> A[ :, :] ==\n",
      "[[10 20]\n",
      " [30 40]\n",
      " [50 60]]\n"
     ]
    }
   ],
   "source": [
    "# indexing / slicing\n",
    "print(A)\n",
    "\n",
    "# 1행 1열 원소\n",
    "print(\"A[0, 0] ==\", A[0, 0], \", A[0][0] ==\", A[0][0])\n",
    "# 3행 2열\n",
    "print(\"A[2, 1] ==\", A[2, 1], \", A[2][1] ==\", A[2][1])\n",
    "# 인덱스 0:1 행,\n",
    "print(\"-- A[0:1, 0:1] ==\\n%s\" % A[0:1, 0:1])\n",
    "print(\"++ A[0:-1, 1:2] ==\\n%s\" % A[0:-1, 1:2])\n",
    "# 모든 행 1열\n",
    "print(\"** A[ :, 0] ==\", A[:, 0])\n",
    "# 이 결과가 matrix가 아닌 vector가 된다는건 흥미로움.\n",
    "# 어느 차원에서든, : 가 아닌 정수 인덱싱을 하면 차원이 하나 줄어든다.\n",
    "\n",
    "# 모든 행, 모든 열. 즉 A 와 동일.\n",
    "print(\">> A[ :, :] ==\\n%s\" % A[:, :])"
   ]
  },
  {
   "cell_type": "code",
   "execution_count": 23,
   "metadata": {
    "collapsed": false
   },
   "outputs": [
    {
     "name": "stdout",
     "output_type": "stream",
     "text": [
      "[[10 20 30 40]\n",
      " [50 60 70 80]] \n",
      "\n",
      "A.shape == (2, 4) \n",
      "\n",
      "<numpy.nditer object at 0x107955850>\n",
      "(0, 0): current value => 10\n",
      "(0, 1): current value => 20\n",
      "(0, 2): current value => 30\n",
      "(0, 3): current value => 40\n",
      "(1, 0): current value => 50\n",
      "(1, 1): current value => 60\n",
      "(1, 2): current value => 70\n",
      "(1, 3): current value => 80\n"
     ]
    }
   ],
   "source": [
    "# iterator 예제\n",
    "import numpy as np\n",
    "\n",
    "A = np.array([ [10, 20, 30, 40], [50, 60, 70, 80] ])\n",
    "\n",
    "print(A, \"\\n\")\n",
    "print(\"A.shape ==\", A.shape, \"\\n\")\n",
    "\n",
    "# 행렬 A 의 itrator 생성\n",
    "\n",
    "it = np.nditer(A, flags=['multi_index'], op_flags=['readwrite'])\n",
    "print(it)\n",
    "\n",
    "while not it.finished:\n",
    "\n",
    "    idx = it.multi_index\n",
    "\n",
    "    print(\"%s: current value => %s\" % (idx, A[idx]))\n",
    "\n",
    "    it.iternext()"
   ]
  },
  {
   "cell_type": "markdown",
   "metadata": {},
   "source": [
    "nditer 는 요소가 저장된 순서대로 순회 하는 것으로 보임.\n",
    "\n",
    "multi_index 플래그가 없으면 어떻게 되는가? <br>\n",
    "=> index 값이 그냥 1차원 배열 처럼 증가. 실제 배열 요소의 순회 순서는 차이가 없음.\n"
   ]
  },
  {
   "cell_type": "code",
   "execution_count": 26,
   "metadata": {},
   "outputs": [
    {
     "name": "stdout",
     "output_type": "stream",
     "text": [
      "[[10 20 30]\n",
      " [40 50 60]] \n",
      "\n",
      "(0, 0): 10\n",
      "(0, 1): 20\n",
      "(0, 2): 30\n",
      "(1, 0): 40\n",
      "(1, 1): 50\n",
      "(1, 2): 60\n"
     ]
    }
   ],
   "source": [
    "A = np.array([ [10, 20, 30 ], [40, 50, 60] ])\n",
    "\n",
    "print(A, \"\\n\")\n",
    "\n",
    "it = np.nditer(A,\n",
    "            flags=['multi_index'],\n",
    "            op_flags=['readwrite'])\n",
    "\n",
    "while not it.finished:\n",
    "    idx = it.multi_index\n",
    "    print(\"%s: %s\" % (idx, A[idx]))\n",
    "    it.iternext()"
   ]
  }
 ],
 "metadata": {
  "anaconda-cloud": {},
  "kernelspec": {
   "display_name": "ml_39",
   "language": "python",
   "name": "python3"
  },
  "language_info": {
   "codemirror_mode": {
    "name": "ipython",
    "version": 3
   },
   "file_extension": ".py",
   "mimetype": "text/x-python",
   "name": "python",
   "nbconvert_exporter": "python",
   "pygments_lexer": "ipython3",
   "version": "3.9.15"
  }
 },
 "nbformat": 4,
 "nbformat_minor": 1
}
