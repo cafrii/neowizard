{
 "cells": [
  {
   "cell_type": "code",
   "execution_count": 1,
   "metadata": {
    "collapsed": false
   },
   "outputs": [
    {
     "name": "stdout",
     "output_type": "stream",
     "text": [
      "x_data.shape =  (10, 1) , t_data.shape =  (10, 1)\n"
     ]
    }
   ],
   "source": [
    "import numpy as np\n",
    "\n",
    "x_data = np.array([2, 4, 6, 8, 10, 12, 14, 16, 18, 20]).reshape(10,1)\n",
    "t_data = np.array([0, 0, 0, 0,  0,  0,  1,  1,  1,  1]).reshape(10,1)\n",
    "\n",
    "print(\"x_data.shape = \", x_data.shape, \", t_data.shape = \", t_data.shape)"
   ]
  },
  {
   "cell_type": "code",
   "execution_count": 2,
   "metadata": {
    "collapsed": false
   },
   "outputs": [
    {
     "name": "stdout",
     "output_type": "stream",
     "text": [
      "W =  [[0.81278093]] , W.shape =  (1, 1) , b =  [0.78628141] , b.shape =  (1,)\n"
     ]
    }
   ],
   "source": [
    "W = np.random.rand(1,1)\n",
    "    # 이건 어떤 의미인가? 0~1 사이의 랜덤 값으로 구성된 1x1 행렬을 리턴하라는 말. 랜덤 값의 범위는 지정하지 못하며 dimension 만 지정 가능함.\n",
    "b = np.random.rand(1)\n",
    "print(\"W = \", W, \", W.shape = \", W.shape, \", b = \", b, \", b.shape = \", b.shape)"
   ]
  },
  {
   "cell_type": "code",
   "execution_count": 3,
   "metadata": {
    "collapsed": true
   },
   "outputs": [],
   "source": [
    "# 최종출력은 y = sigmoid(Wx+b) 이며, 손실함수는 cross-entropy 로 나타냄\n",
    "\n",
    "def sigmoid(x):\n",
    "    return 1 / (1+np.exp(-x))\n",
    "\n",
    "def loss_func(x, t):\n",
    "\n",
    "    delta = 1e-7    # log 무한대 발산 방지\n",
    "\n",
    "    z = np.dot(x,W) + b\n",
    "    y = sigmoid(z)\n",
    "\n",
    "    # cross-entropy\n",
    "    return  -np.sum( t*np.log(y + delta) + (1-t)*np.log((1 - y)+delta ) )"
   ]
  },
  {
   "cell_type": "code",
   "execution_count": 4,
   "metadata": {
    "collapsed": true
   },
   "outputs": [],
   "source": [
    "def numerical_derivative(f, x):\n",
    "    delta_x = 1e-4 # 0.0001\n",
    "    grad = np.zeros_like(x)\n",
    "\n",
    "    it = np.nditer(x, flags=['multi_index'], op_flags=['readwrite'])\n",
    "\n",
    "    while not it.finished:\n",
    "        idx = it.multi_index\n",
    "        tmp_val = x[idx]\n",
    "        x[idx] = float(tmp_val) + delta_x\n",
    "        fx1 = f(x) # f(x+delta_x)\n",
    "\n",
    "        x[idx] = tmp_val - delta_x\n",
    "        fx2 = f(x) # f(x-delta_x)\n",
    "        grad[idx] = (fx1 - fx2) / (2*delta_x)\n",
    "\n",
    "        x[idx] = tmp_val\n",
    "        it.iternext()\n",
    "\n",
    "    return grad"
   ]
  },
  {
   "cell_type": "code",
   "execution_count": 5,
   "metadata": {
    "collapsed": true
   },
   "outputs": [],
   "source": [
    "# 손실함수 값 계산 함수\n",
    "# 입력변수 x, t : numpy type\n",
    "def error_val(x, t):\n",
    "    delta = 1e-7    # log 무한대 발산 방지\n",
    "\n",
    "    z = np.dot(x,W) + b\n",
    "    y = sigmoid(z)\n",
    "\n",
    "    # cross-entropy\n",
    "    return  -np.sum( t*np.log(y + delta) + (1-t)*np.log((1 - y)+delta ) )\n",
    "\n",
    "# 학습을 마친 후, 임의의 데이터에 대해 미래 값 예측 함수\n",
    "# 입력변수 x : numpy type\n",
    "def predict(x):\n",
    "\n",
    "    z = np.dot(x,W) + b\n",
    "    y = sigmoid(z)\n",
    "\n",
    "    if y >= 0.5:\n",
    "        result = 1  # True\n",
    "    else:\n",
    "        result = 0  # False\n",
    "\n",
    "    return y, result\n",
    "    # 중요: true, false 뿐 아니라 실제 sigmoid 결과 값도 전달해 준다. 이 값은 발생 확률이므로 유용하게 사용될 수 있기 때문."
   ]
  },
  {
   "cell_type": "code",
   "execution_count": null,
   "metadata": {
    "collapsed": false
   },
   "outputs": [
    {
     "name": "stdout",
     "output_type": "stream",
     "text": [
      "Initial error value =  38.95745235803363 Initial W =  [[0.81278093]] \n",
      " , b =  [0.78628141]\n",
      "step =  0 error value =  21.379414294328008 W =  [[0.39593939]] , b =  [0.72959828]\n",
      "step =  400 error value =  2.81273658610562 W =  [[0.2779565]] , b =  [-4.10463396]\n",
      "step =  800 error value =  1.7834042009950375 W =  [[0.45343756]] , b =  [-5.6420605]\n",
      "step =  1200 error value =  1.517739952670369 W =  [[0.53076197]] , b =  [-6.67168246]\n",
      "step =  1600 error value =  1.3523020299282267 W =  [[0.59201045]] , b =  [-7.48501423]\n",
      "step =  2000 error value =  1.2358648353317139 W =  [[0.64352097]] , b =  [-8.16753825]\n",
      "step =  2400 error value =  1.1477260443991748 W =  [[0.68841922]] , b =  [-8.7613922]\n",
      "step =  2800 error value =  1.0777104348445983 W =  [[0.72849388]] , b =  [-9.29066818]\n",
      "step =  3200 error value =  1.0201516519119636 W =  [[0.76487193]] , b =  [-9.77052943]\n",
      "step =  3600 error value =  0.9716069844345633 W =  [[0.79831312]] , b =  [-10.21118674]\n",
      "step =  4000 error value =  0.9298455696493776 W =  [[0.82935603]] , b =  [-10.61987024]\n",
      "step =  4400 error value =  0.8933482586813446 W =  [[0.85839755]] , b =  [-11.00190228]\n",
      "step =  4800 error value =  0.861038935711523 W =  [[0.88573935]] , b =  [-11.36132408]\n",
      "step =  5200 error value =  0.8321304340221544 W =  [[0.91161658]] , b =  [-11.70128262]\n",
      "step =  5600 error value =  0.8060313880048443 W =  [[0.93621643]] , b =  [-12.02428055]\n",
      "step =  6000 error value =  0.7822874198302662 W =  [[0.95969054]] , b =  [-12.33234381]\n",
      "step =  6400 error value =  0.7605426239983752 W =  [[0.98216367]] , b =  [-12.62713751]\n",
      "step =  6800 error value =  0.7405135475747404 W =  [[1.00373979]] , b =  [-12.91004838]\n",
      "step =  7200 error value =  0.721971134139975 W =  [[1.02450657]] , b =  [-13.18224466]\n",
      "step =  7600 error value =  0.7047278976364116 W =  [[1.04453865]] , b =  [-13.4447206]\n",
      "step =  8000 error value =  0.6886286219968715 W =  [[1.06390019]] , b =  [-13.69832999]\n",
      "step =  8400 error value =  0.6735434933045651 W =  [[1.08264675]] , b =  [-13.94381202]\n",
      "step =  8800 error value =  0.6593629450594488 W =  [[1.10082683]] , b =  [-14.18181128]\n",
      "step =  9200 error value =  0.6459937322803865 W =  [[1.11848301]] , b =  [-14.4128936]\n",
      "step =  9600 error value =  0.6333559017745184 W =  [[1.13565292]] , b =  [-14.63755864]\n",
      "step =  10000 error value =  0.621380425824406 W =  [[1.15236999]] , b =  [-14.85625005]\n"
     ]
    }
   ],
   "source": [
    "learning_rate = 1e-2  # 발산하는 경우, 1e-3 ~ 1e-6 등으로 바꾸어서 실행\n",
    "\n",
    "f = lambda x : loss_func(x_data,t_data)  # f(x) = loss_func(x_data, t_data)\n",
    "    # 여기서 중요한 특이 사항이 있다.\n",
    "    # 람다 함수의 인자 x가 lambda 구현 내에서는 사용되지 않고 있다.\n",
    "    # 하지만 f 함수를 사용하는 곳의 코드를 보면 W 와 b 가 x로 전달이 되는데,\n",
    "    # 이게 전역 변수처럼 접근이 가능하기 때문에 문제 없이 동작은 한다.\n",
    "    # 그리 좋은 방법은 아닌 것 같음.\n",
    "\n",
    "print(\"Initial error value = \", error_val(x_data, t_data), \"Initial W = \", W, \"\\n\", \", b = \", b )\n",
    "\n",
    "for step in  range(10001):\n",
    "\n",
    "    W -= learning_rate * numerical_derivative(f, W)\n",
    "\n",
    "    b -= learning_rate * numerical_derivative(f, b)\n",
    "\n",
    "    if (step % 400 == 0):\n",
    "        print(\"step = \", step, \"error value = \", error_val(x_data, t_data), \"W = \", W, \", b = \",b )"
   ]
  },
  {
   "cell_type": "code",
   "execution_count": 7,
   "metadata": {
    "collapsed": false
   },
   "outputs": [
    {
     "name": "stdout",
     "output_type": "stream",
     "text": [
      "[[1.12049907e-05]] 0\n"
     ]
    }
   ],
   "source": [
    "# 실제 입력 데이터에 없는 값을 넣어 보아서 예상대로 나오는지 확인.\n",
    "\n",
    "(real_val, logical_val) = predict(3)\n",
    "\n",
    "print(real_val, logical_val)"
   ]
  },
  {
   "cell_type": "code",
   "execution_count": 8,
   "metadata": {
    "collapsed": false
   },
   "outputs": [
    {
     "name": "stdout",
     "output_type": "stream",
     "text": [
      "[[0.99128572]] 1\n"
     ]
    }
   ],
   "source": [
    "(real_val, logical_val) = predict(17)\n",
    "\n",
    "print(real_val, logical_val)"
   ]
  },
  {
   "cell_type": "code",
   "execution_count": null,
   "metadata": {},
   "outputs": [
    {
     "name": "stdout",
     "output_type": "stream",
     "text": [
      "x=    13.1 [[0.55966359]] 1\n",
      "x=13.00001 [[0.53110263]] 1\n",
      "x=    12.9 [[0.5023307]] 1\n",
      "x=   12.89 [[0.49944979]] 0\n",
      "x=  12.897 [[0.50146643]] 1\n",
      "x=  12.894 [[0.50060216]] 1\n",
      "x=  12.892 [[0.50002597]] 1\n",
      "x=  12.891 [[0.49973788]] 0\n"
     ]
    }
   ],
   "source": [
    "# 확률이 50% 인 부분이 어디쯤일까?\n",
    "# 왜 13 이 아니라 13 보다 더 적은 값이 될까?\n",
    "\n",
    "for x in [\n",
    "    13.1, 13.00001, 12.9, 12.89, 12.897, 12.894, 12.892, 12.891,\n",
    "]:\n",
    "    (real_val, logical_val) = predict(x)\n",
    "    print(f'x={x:8}', real_val, logical_val)\n"
   ]
  },
  {
   "cell_type": "markdown",
   "metadata": {},
   "source": [
    "#### 궁금한 점:\n",
    "\n",
    "  - $ y = sigmoid(z) = \\dfrac {1} {1+e^{-z}} = \\dfrac {1} {1+e^{-(Wx+b)}} $\n",
    "\n",
    "    - sigmoid 함수의 결과인 y는 어차피 0의 값을 가질 수 없는 것 아닌가?\n",
    "    - x 가 $- \\infty $ 인 경우에만 0 이 가능한데?\n",
    "  - 답변 (GPT)\n",
    "    - 이 함수의 출력 범위는 (0, 1) (즉, 0과 1이 절대 될 수 없음)\n",
    "    - 그러나, y = sigmoid(z)에서 z가 매우 작거나 매우 클 때 y가 0 또는 1에 극도로 가까워질 수 있음\n",
    "    - 예를 들어:\n",
    "      - z = -1000이면 y ≈ 0.0...001 (거의 0)\n",
    "      - z = 1000이면 y ≈ 0.9999...99 (거의 1)\n",
    "    - 즉, 이론적으로 0이 되지 않지만, 컴퓨터의 부동소수점(floating point) 표현에서는 매우 작은 값이 0으로 간주될 수 있습니다.\n",
    "  - ..\n",
    "  - $ L = E(W,b) = - \\sum _{i=1} ^n { \\{\\ t_i log y_i + (1-t_i) log (1-y_i)\\ \\} } $\n",
    "\n",
    "    - 이때:\n",
    "    - 만약 y = 0이라면, log(0)은 **마이너스 무한대(-∞)**가 되어 에러 발생\n",
    "    - 만약 y = 1이라면, log(1-y) = log(0)이므로 역시 에러 발생\n",
    "    - 💡 부동소수점 문제로 인해 y가 0 또는 1에 극도로 가까워지는 경우에도 log(0) 에러가 발생할 수 있음!\n",
    "  - ..\n",
    "  - $ L = - \\sum { \\{\\ t log (y + \\delta) + (1-t) log (1-y+\\delta)\\ \\} } $\n",
    "\n",
    "    - 중요한 점: y 대신 y + $\\delta$ 를 넣는게 아니고, 그냥 log() 안에 $\\delta$ 를 추가하는 것!"
   ]
  }
 ],
 "metadata": {
  "anaconda-cloud": {},
  "kernelspec": {
   "display_name": "ml_39",
   "language": "python",
   "name": "python3"
  },
  "language_info": {
   "codemirror_mode": {
    "name": "ipython",
    "version": 3
   },
   "file_extension": ".py",
   "mimetype": "text/x-python",
   "name": "python",
   "nbconvert_exporter": "python",
   "pygments_lexer": "ipython3",
   "version": "3.9.15"
  }
 },
 "nbformat": 4,
 "nbformat_minor": 1
}
