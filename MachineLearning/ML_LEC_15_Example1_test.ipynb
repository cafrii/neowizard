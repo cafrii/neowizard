{
 "cells": [
  {
   "cell_type": "markdown",
   "metadata": {},
   "source": [
    "## [머신러닝 강의 15] Linear Regression (III)\n",
    "\n",
    "궁금한 점을 이곳에서 연습하면서 정리.\n"
   ]
  },
  {
   "cell_type": "code",
   "execution_count": 11,
   "metadata": {},
   "outputs": [],
   "source": [
    "import numpy as np"
   ]
  },
  {
   "cell_type": "markdown",
   "metadata": {},
   "source": [
    "### loss function\n",
    "\n",
    "#### 왜 dot product 를 사용하는가?\n",
    "\n",
    "아래 코드 중 다음 문장의 해석에 설명이 필요함.\n",
    "```\n",
    "np.dot(np.array(A).T, K)\n",
    "```\n",
    "원래 수식으로 하면 다음과 같다.\n",
    "\n",
    "`y = Wx + b` \n",
    "\n",
    "여기에서 W 와 b 는 그냥 스칼라 값이다. 이 y (예측값) 와 ti (실제값) 의 차이(에러)의 MSE는 다음과 같이 구한다.<p>\n",
    "\n",
    "$ E(W, b) = \\frac{1} {n} \\times \\sum ( (ti - (W \\times x_i + b))^2 ) $ <br>\n",
    "\n",
    "여기서 질문이 생김. $x_i$로 구성된 배열이 $X$라면, $X$와 $W$의 곱인데, $W$가 스칼라 상수이니까 그냥 곱하기를 해도 되지 않는가?\n",
    "\n",
    "#### np.dot() 함수\n",
    "이름은 dot() 이지만, 사실 입력인자 (곱해질 수)의 타입에 따라 여러가지 다른 형태로 계산을 하는 함수이다.\n",
    "\n",
    "지금의 경우는 두 인자 중 하나가 스칼라이므로, 다음에 해당된다.\n",
    "- a 또는 b가 0-D(스칼라)인 경우 곱하기와 같으며 `numpy.multiply(a, b)` 또는 `a * b`를 사용하는 것이 좋습니다.\n",
    "\n",
    "즉, 예상대로 그냥 상수 곱하기와 동일하게 계산한다. 굳이 np.dot()를 사용한 이유는 단일 변수가 아닌 복수개의 입력 변수까지 확장하기 위함이다."
   ]
  },
  {
   "cell_type": "code",
   "execution_count": null,
   "metadata": {},
   "outputs": [
    {
     "name": "stdout",
     "output_type": "stream",
     "text": [
      "60\n",
      "----\n",
      "[1 2 3]\n",
      "[1 2 3]\n",
      "[10 20 30]\n"
     ]
    }
   ],
   "source": [
    "A = [ 1, 2, 3 ]\n",
    "K = 10\n",
    "print(A[0]*K + A[1]*K + A[2]*K)\n",
    "\n",
    "# 위 계산을 numpy로..\n",
    "A = np.array(A).T\n",
    "print('----')\n",
    "print(A); print(A.T)\n",
    "print(np.dot(np.array(A).T, K))  # dot 행렬 곱을 스칼라 상수 K와?\n"
   ]
  },
  {
   "cell_type": "markdown",
   "metadata": {},
   "source": [
    "### 복수 변수의 경우\n",
    "\n",
    "만약 multi variable 인 경우라면, 예를 들어 2변수 함수이고 인자가 u, v 라고 하면 W 또한 두 개의 상수가 되어야 한다. 이를 W1, W2 라고 하면 다음과 같이 2원 1차 식으로 쓸 수 있다.\n",
    "\n",
    "$ y = w_1 u + w_2 v + b$ <p>\n",
    "$ E(w_1,w_2,b) = \\frac{1} {n} \\times \\sum ( (t_i - (w_1 u + w_2 v + b))^2 ) $ <p>\n",
    "\n",
    "\n",
    "|입력(u)|입력(v)|정답(t)|\n",
    "|----|----|----|\n",
    "| u1 | v1 | t1 |\n",
    "| u2 | v2 | t2 |\n",
    "| .. | .. | .. |\n",
    "| un | vn | tn |\n",
    "\n",
    "입력 샘플을 xi = [ ui vi ], 스칼라 상수 W = [ w1 w2 ] 라고 정의하면, 처음 식을 그대로 사용할 수 있다.\n",
    "`y = Wx + b` \n",
    "X는 (n,2) 행렬이고 (여기서 n은 샘플 개수), W는 (2,) 이면 XW 계산이 안되므로 W를 (2,1)로 만든 후 계산해야 한다.\n",
    "\n",
    "코드로는 동일하게 `np.dot(X, W)` 로 쓸 수 있다.\n",
    "이 때의 dot() 함수는 다음과 같이 동작한다.\n",
    "- If a is an N-D array and b is a 1-D array, it is a sum product over the last axis of a and b."
   ]
  },
  {
   "cell_type": "code",
   "execution_count": null,
   "metadata": {},
   "outputs": [
    {
     "name": "stdout",
     "output_type": "stream",
     "text": [
      "[ 50 110 170 230]\n"
     ]
    }
   ],
   "source": [
    "# 위 내용의 예시\n",
    "X = np.array([[1, 2], [3, 4], [5, 6], [7, 8]])  # (4,2). n==4 인 경우임.\n",
    "W = np.array([10, 20])  # (2,)\n",
    "print(np.dot(X, W))\n",
    "# 출력은 [ 50 110 170 230] 와 같이 되겠지만, 1D 벡터이고 열벡터 처럼 보는 것이 더 자연스럽다."
   ]
  }
 ],
 "metadata": {
  "anaconda-cloud": {},
  "kernelspec": {
   "display_name": "ml_39",
   "language": "python",
   "name": "python3"
  },
  "language_info": {
   "codemirror_mode": {
    "name": "ipython",
    "version": 3
   },
   "file_extension": ".py",
   "mimetype": "text/x-python",
   "name": "python",
   "nbconvert_exporter": "python",
   "pygments_lexer": "ipython3",
   "version": "3.9.15"
  }
 },
 "nbformat": 4,
 "nbformat_minor": 1
}
